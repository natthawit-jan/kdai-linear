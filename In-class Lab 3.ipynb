{
 "cells": [
  {
   "cell_type": "code",
   "execution_count": null,
   "metadata": {},
   "outputs": [],
   "source": [
    "# N"
   ]
  },
  {
   "cell_type": "code",
   "execution_count": 1,
   "metadata": {
    "id": "SLViiPTx2emR"
   },
   "outputs": [],
   "source": [
    "import matplotlib.pyplot as plt  # For plotting\n",
    "import numpy as np               # For the linear algebra\n",
    "%matplotlib inline             "
   ]
  },
  {
   "cell_type": "code",
   "execution_count": 2,
   "metadata": {
    "id": "53otULWn2emV"
   },
   "outputs": [
    {
     "name": "stdout",
     "output_type": "stream",
     "text": [
      "The size of the image is  (10, 10)\n"
     ]
    }
   ],
   "source": [
    "w = 255\n",
    "b = 0\n",
    "helpshow = lambda d: plt.imshow(d, cmap='gray', vmin=0, vmax=255)\n",
    "A = np.array([ [w,w,w,b,b,w,w,w,w,w],\n",
    "               [b,b,w,w,b,b,b,w,w,w],\n",
    "               [w,b,w,w,w,b,b,w,w,w],\n",
    "               [w,b,b,w,b,b,b,b,w,w],\n",
    "               [w,w,b,b,b,b,b,b,b,w],\n",
    "               [w,w,b,b,b,b,b,w,b,b],\n",
    "               [w,b,b,b,b,b,b,b,b,b],\n",
    "               [w,b,b,w,b,b,b,b,b,w],\n",
    "               [b,b,w,w,w,b,b,w,w,w],\n",
    "               [w,w,w,w,b,b,w,w,w,w]])\n",
    "\n",
    "print('The size of the image is ', A.shape)"
   ]
  },
  {
   "cell_type": "code",
   "execution_count": 3,
   "metadata": {
    "id": "KGxKjQXFHK1X",
    "scrolled": true
   },
   "outputs": [
    {
     "name": "stdout",
     "output_type": "stream",
     "text": [
      "The matrix A has entries \n",
      " [[255 255 255   0   0 255 255 255 255 255]\n",
      " [  0   0 255 255   0   0   0 255 255 255]\n",
      " [255   0 255 255 255   0   0 255 255 255]\n",
      " [255   0   0 255   0   0   0   0 255 255]\n",
      " [255 255   0   0   0   0   0   0   0 255]\n",
      " [255 255   0   0   0   0   0 255   0   0]\n",
      " [255   0   0   0   0   0   0   0   0   0]\n",
      " [255   0   0 255   0   0   0   0   0 255]\n",
      " [  0   0 255 255 255   0   0 255 255 255]\n",
      " [255 255 255 255   0   0 255 255 255 255]]\n"
     ]
    }
   ],
   "source": [
    "print('The matrix A has entries \\n', A)"
   ]
  },
  {
   "cell_type": "markdown",
   "metadata": {},
   "source": [
    "# Show the original image"
   ]
  },
  {
   "cell_type": "markdown",
   "metadata": {
    "id": "v8jL4_aPDnYH"
   },
   "source": [
    "Exercise: Based on the entries of the matrix, on a piece of paper, sketch out the hidden object. Can you describe it?"
   ]
  },
  {
   "cell_type": "code",
   "execution_count": 4,
   "metadata": {
    "id": "cI0w0Xgk2emb"
   },
   "outputs": [
    {
     "data": {
      "image/png": "[encoded data removed]",
      "text/plain": [
       "<Figure size 432x288 with 1 Axes>"
      ]
     },
     "metadata": {
      "needs_background": "light"
     },
     "output_type": "display_data"
    }
   ],
   "source": [
    "# show image A \n",
    "helpshow(A)\n",
    "plt.show()"
   ]
  },
  {
   "cell_type": "code",
   "execution_count": 5,
   "metadata": {},
   "outputs": [
    {
     "name": "stdout",
     "output_type": "stream",
     "text": [
      "[[0. 0. 0. 0. 0. 0. 0. 0. 0. 1.]\n",
      " [0. 0. 0. 0. 0. 0. 0. 0. 1. 0.]\n",
      " [0. 0. 0. 0. 0. 0. 0. 1. 0. 0.]\n",
      " [0. 0. 0. 0. 0. 0. 1. 0. 0. 0.]\n",
      " [0. 0. 0. 0. 0. 1. 0. 0. 0. 0.]\n",
      " [0. 0. 0. 0. 1. 0. 0. 0. 0. 0.]\n",
      " [0. 0. 0. 1. 0. 0. 0. 0. 0. 0.]\n",
      " [0. 0. 1. 0. 0. 0. 0. 0. 0. 0.]\n",
      " [0. 1. 0. 0. 0. 0. 0. 0. 0. 0.]\n",
      " [1. 0. 0. 0. 0. 0. 0. 0. 0. 0.]]\n"
     ]
    }
   ],
   "source": [
    "# Reflection around X-axis\n",
    "P = np.eye(10)[::-1,:]  \n",
    "print(P)"
   ]
  },
  {
   "cell_type": "markdown",
   "metadata": {},
   "source": [
    "# X - Axis"
   ]
  },
  {
   "cell_type": "code",
   "execution_count": 6,
   "metadata": {
    "id": "nsrot8RuIZn4"
   },
   "outputs": [
    {
     "data": {
      "image/png": "[encoded data removed]",
      "text/plain": [
       "<Figure size 432x288 with 1 Axes>"
      ]
     },
     "metadata": {
      "needs_background": "light"
     },
     "output_type": "display_data"
    },
    {
     "name": "stdout",
     "output_type": "stream",
     "text": [
      "[[255. 255. 255. 255.   0.   0. 255. 255. 255. 255.]\n",
      " [  0.   0. 255. 255. 255.   0.   0. 255. 255. 255.]\n",
      " [255.   0.   0. 255.   0.   0.   0.   0.   0. 255.]\n",
      " [255.   0.   0.   0.   0.   0.   0.   0.   0.   0.]\n",
      " [255. 255.   0.   0.   0.   0.   0. 255.   0.   0.]\n",
      " [255. 255.   0.   0.   0.   0.   0.   0.   0. 255.]\n",
      " [255.   0.   0. 255.   0.   0.   0.   0. 255. 255.]\n",
      " [255.   0. 255. 255. 255.   0.   0. 255. 255. 255.]\n",
      " [  0.   0. 255. 255.   0.   0.   0. 255. 255. 255.]\n",
      " [255. 255. 255.   0.   0. 255. 255. 255. 255. 255.]]\n"
     ]
    }
   ],
   "source": [
    "helpshow(P @ A)\n",
    "plt.show()\n",
    "print(P @ A)"
   ]
  },
  {
   "cell_type": "markdown",
   "metadata": {},
   "source": [
    "# Y-Axis"
   ]
  },
  {
   "cell_type": "code",
   "execution_count": 7,
   "metadata": {},
   "outputs": [
    {
     "data": {
      "image/png": "[encoded data removed]",
      "text/plain": [
       "<Figure size 432x288 with 1 Axes>"
      ]
     },
     "metadata": {
      "needs_background": "light"
     },
     "output_type": "display_data"
    },
    {
     "name": "stdout",
     "output_type": "stream",
     "text": [
      "[[255. 255. 255. 255. 255.   0.   0. 255. 255. 255.]\n",
      " [255. 255. 255.   0.   0.   0. 255. 255.   0.   0.]\n",
      " [255. 255. 255.   0.   0. 255. 255. 255.   0. 255.]\n",
      " [255. 255.   0.   0.   0.   0. 255.   0.   0. 255.]\n",
      " [255.   0.   0.   0.   0.   0.   0.   0. 255. 255.]\n",
      " [  0.   0. 255.   0.   0.   0.   0.   0. 255. 255.]\n",
      " [  0.   0.   0.   0.   0.   0.   0.   0.   0. 255.]\n",
      " [255.   0.   0.   0.   0.   0. 255.   0.   0. 255.]\n",
      " [255. 255. 255.   0.   0. 255. 255. 255.   0.   0.]\n",
      " [255. 255. 255. 255.   0.   0. 255. 255. 255. 255.]]\n"
     ]
    }
   ],
   "source": [
    "# Reflection around Y-axis\n",
    "helpshow(A @ P)\n",
    "plt.show()\n",
    "print(A @ P)"
   ]
  },
  {
   "cell_type": "markdown",
   "metadata": {},
   "source": [
    "# Dim the image by 1/2"
   ]
  },
  {
   "cell_type": "code",
   "execution_count": 8,
   "metadata": {},
   "outputs": [
    {
     "data": {
      "image/png": "[encoded data removed]",
      "text/plain": [
       "<Figure size 432x288 with 1 Axes>"
      ]
     },
     "metadata": {
      "needs_background": "light"
     },
     "output_type": "display_data"
    },
    {
     "name": "stdout",
     "output_type": "stream",
     "text": [
      "[[127.5 127.5 127.5   0.    0.  127.5 127.5 127.5 127.5 127.5]\n",
      " [  0.    0.  127.5 127.5   0.    0.    0.  127.5 127.5 127.5]\n",
      " [127.5   0.  127.5 127.5 127.5   0.    0.  127.5 127.5 127.5]\n",
      " [127.5   0.    0.  127.5   0.    0.    0.    0.  127.5 127.5]\n",
      " [127.5 127.5   0.    0.    0.    0.    0.    0.    0.  127.5]\n",
      " [127.5 127.5   0.    0.    0.    0.    0.  127.5   0.    0. ]\n",
      " [127.5   0.    0.    0.    0.    0.    0.    0.    0.    0. ]\n",
      " [127.5   0.    0.  127.5   0.    0.    0.    0.    0.  127.5]\n",
      " [  0.    0.  127.5 127.5 127.5   0.    0.  127.5 127.5 127.5]\n",
      " [127.5 127.5 127.5 127.5   0.    0.  127.5 127.5 127.5 127.5]]\n"
     ]
    }
   ],
   "source": [
    "# Dim the image by 1/2\n",
    "\n",
    "helpshow(A/2)\n",
    "plt.show()\n",
    "print(A/2)"
   ]
  },
  {
   "cell_type": "markdown",
   "metadata": {},
   "source": [
    "# Inverted Image"
   ]
  },
  {
   "cell_type": "code",
   "execution_count": 9,
   "metadata": {},
   "outputs": [
    {
     "data": {
      "image/png": "[encoded data removed]",
      "text/plain": [
       "<Figure size 432x288 with 1 Axes>"
      ]
     },
     "metadata": {
      "needs_background": "light"
     },
     "output_type": "display_data"
    },
    {
     "name": "stdout",
     "output_type": "stream",
     "text": [
      "[[  0.   0.   0. 255. 255.   0.   0.   0.   0.   0.]\n",
      " [255. 255.   0.   0. 255. 255. 255.   0.   0.   0.]\n",
      " [  0. 255.   0.   0.   0. 255. 255.   0.   0.   0.]\n",
      " [  0. 255. 255.   0. 255. 255. 255. 255.   0.   0.]\n",
      " [  0.   0. 255. 255. 255. 255. 255. 255. 255.   0.]\n",
      " [  0.   0. 255. 255. 255. 255. 255.   0. 255. 255.]\n",
      " [  0. 255. 255. 255. 255. 255. 255. 255. 255. 255.]\n",
      " [  0. 255. 255.   0. 255. 255. 255. 255. 255.   0.]\n",
      " [255. 255.   0.   0.   0. 255. 255.   0.   0.   0.]\n",
      " [  0.   0.   0.   0. 255. 255.   0.   0.   0.   0.]]\n"
     ]
    }
   ],
   "source": [
    "## Image inversion\n",
    "# show Inverted Image\n",
    "P = np.ones(10)\n",
    "helpshow((255*P) - A)\n",
    "plt.show()\n",
    "print((255*P) - A)"
   ]
  },
  {
   "cell_type": "markdown",
   "metadata": {},
   "source": [
    "# Make a blue image"
   ]
  },
  {
   "cell_type": "code",
   "execution_count": 10,
   "metadata": {},
   "outputs": [
    {
     "name": "stdout",
     "output_type": "stream",
     "text": [
      "[[127.5   170.    170.    127.5    85.     85.    170.    212.5   255.    255.   ]\n",
      " [127.5   170.    170.    170.    113.333  85.    141.667 198.333 255.    255.   ]\n",
      " [ 85.    113.333 141.667 170.    113.333  28.333  56.667 141.667 226.667 255.   ]\n",
      " [170.    141.667 113.333 113.333  85.     28.333  28.333  85.    170.    212.5  ]\n",
      " [212.5   141.667  85.     28.333  28.333   0.     28.333  56.667 113.333 127.5  ]\n",
      " [212.5   141.667  56.667   0.      0.      0.     28.333  28.333  56.667  42.5  ]\n",
      " [170.    113.333  56.667  28.333  28.333   0.     28.333  28.333  56.667  42.5  ]\n",
      " [ 85.     85.     85.    113.333  85.     28.333  28.333  56.667 113.333 127.5  ]\n",
      " [127.5   141.667 170.    170.    113.333  56.667  85.    141.667 198.333 212.5  ]\n",
      " [127.5   170.    212.5   212.5   127.5    85.    127.5   212.5   255.    255.   ]]\n"
     ]
    },
    {
     "data": {
      "image/png": "[encoded data removed]",
      "text/plain": [
       "<Figure size 432x288 with 1 Axes>"
      ]
     },
     "metadata": {
      "needs_background": "light"
     },
     "output_type": "display_data"
    }
   ],
   "source": [
    "# Blur the image using what we learning in class.\n",
    "# The program below will make a new array with the avarge of the neigbour for each pixel\n",
    "\n",
    "def try_compute(A, x,y):\n",
    "    try:\n",
    "        s = A[x][y]\n",
    "        if x < 0 or y < 0:\n",
    "            raise\n",
    "        return s\n",
    "    \n",
    "    except:\n",
    "        return None\n",
    "\n",
    "def makeblur(A):\n",
    "    ne = np.empty(A.shape)\n",
    "    for x in range(A.shape[0]):\n",
    "        for y in range(A.shape[1]):\n",
    "            #      Up, Down, right, left, top left, top right, bottom left, bottom, right, Self\n",
    "            res = [try_compute(A, x-1, y), try_compute(A, x+1, y), try_compute(A, x, y+1), try_compute(A, x, y-1),\n",
    "                  try_compute(A, x-1, y-1), try_compute(A, x-1, y+1), try_compute(A, x+1, y-1), try_compute(A, x+1, y+1), try_compute(A, x, y)]\n",
    "            count = sum(1 for i in res if i is not None)\n",
    "            avg = sum(i for i in res if i is not None)/count\n",
    "            ne[x][y] = avg\n",
    "    return ne\n",
    "blur_matrix = makeblur(A)\n",
    "np.set_printoptions(precision=3)\n",
    "np.set_printoptions(suppress=True) \n",
    "np.set_printoptions(linewidth=np.nan)\n",
    "print(blur_matrix)      \n",
    "helpshow(blur_matrix)\n",
    "plt.show()"
   ]
  },
  {
   "cell_type": "code",
   "execution_count": null,
   "metadata": {},
   "outputs": [],
   "source": []
  }
 ],
 "metadata": {
  "colab": {
   "collapsed_sections": [],
   "provenance": []
  },
  "kernelspec": {
   "display_name": "Python 3 (ipykernel)",
   "language": "python",
   "name": "python3"
  },
  "language_info": {
   "codemirror_mode": {
    "name": "ipython",
    "version": 3
   },
   "file_extension": ".py",
   "mimetype": "text/x-python",
   "name": "python",
   "nbconvert_exporter": "python",
   "pygments_lexer": "ipython3",
   "version": "3.10.8"
  }
 },
 "nbformat": 4,
 "nbformat_minor": 1
}
