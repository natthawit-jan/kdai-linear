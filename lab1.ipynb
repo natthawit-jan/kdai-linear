{
 "cells": [
  {
   "cell_type": "code",
   "execution_count": 54,
   "metadata": {},
   "outputs": [],
   "source": [
    "import numpy as np\n",
    "from scipy.sparse import csr_matrix\n"
   ]
  },
  {
   "cell_type": "markdown",
   "metadata": {},
   "source": [
    "#### Construct a matrix"
   ]
  },
  {
   "cell_type": "code",
   "execution_count": 55,
   "metadata": {},
   "outputs": [
    {
     "name": "stdout",
     "output_type": "stream",
     "text": [
      "Sparse Matrix\n"
     ]
    },
    {
     "data": {
      "text/plain": [
       "array([[ 0,  0,  0,  0,  0,  0,  0,  7,  0],\n",
       "       [ 0,  0,  3,  0,  0, 20,  0,  0,  0],\n",
       "       [ 0,  0,  0,  0,  0,  0,  0,  0,  0],\n",
       "       [ 9,  0,  0,  0,  0,  0,  0,  0,  0],\n",
       "       [ 0,  0,  0,  0,  0,  0,  0,  0,  0],\n",
       "       [ 0,  0,  2,  0,  0,  0,  0,  0,  0],\n",
       "       [ 0,  0,  0, 14,  0,  0,  0,  0,  0],\n",
       "       [ 0,  8,  0,  0,  1,  0,  0,  0,  0]])"
      ]
     },
     "execution_count": 55,
     "metadata": {},
     "output_type": "execute_result"
    }
   ],
   "source": [
    "A = np.zeros((8,9))\n",
    "A = A.astype(int)\n",
    "non_zeros = [(0,7, 7), (1,2,3), (1,5,20), (3, 0, 9), (5,2,2), (6,3, 14), (7,1,8), (7,4, 1)]\n",
    "for r, c, ele in non_zeros:    \n",
    "    A[r][c] = ele\n",
    "\n",
    "A\n"
   ]
  },
  {
   "cell_type": "markdown",
   "metadata": {},
   "source": [
    "# 2.1"
   ]
  },
  {
   "cell_type": "code",
   "execution_count": 64,
   "metadata": {},
   "outputs": [
    {
     "name": "stdout",
     "output_type": "stream",
     "text": [
      "88.888889 %\n"
     ]
    }
   ],
   "source": [
    "sparsity_score = 1.0 - np.count_nonzero(A) / A.size\n",
    "print(f'{sparsity_score * 100.:2f} %')\n"
   ]
  },
  {
   "cell_type": "markdown",
   "metadata": {},
   "source": [
    "# 2.2"
   ]
  },
  {
   "cell_type": "code",
   "execution_count": 65,
   "metadata": {},
   "outputs": [
    {
     "name": "stdout",
     "output_type": "stream",
     "text": [
      "  (0, 7)\t7\n",
      "  (1, 2)\t3\n",
      "  (1, 5)\t20\n",
      "  (3, 0)\t9\n",
      "  (5, 2)\t2\n",
      "  (6, 3)\t14\n",
      "  (7, 1)\t8\n",
      "  (7, 4)\t1\n"
     ]
    }
   ],
   "source": [
    "S = csr_matrix(A)\n",
    "print(S)\n"
   ]
  },
  {
   "cell_type": "code",
   "execution_count": 66,
   "metadata": {},
   "outputs": [
    {
     "data": {
      "text/plain": [
       "matrix([[ 0,  0,  0,  0,  0,  0,  0,  7,  0],\n",
       "        [ 0,  0,  3,  0,  0, 20,  0,  0,  0],\n",
       "        [ 0,  0,  0,  0,  0,  0,  0,  0,  0],\n",
       "        [ 9,  0,  0,  0,  0,  0,  0,  0,  0],\n",
       "        [ 0,  0,  0,  0,  0,  0,  0,  0,  0],\n",
       "        [ 0,  0,  2,  0,  0,  0,  0,  0,  0],\n",
       "        [ 0,  0,  0, 14,  0,  0,  0,  0,  0],\n",
       "        [ 0,  8,  0,  0,  1,  0,  0,  0,  0]])"
      ]
     },
     "execution_count": 66,
     "metadata": {},
     "output_type": "execute_result"
    }
   ],
   "source": [
    "dense = S.todense()\n",
    "dense"
   ]
  },
  {
   "cell_type": "markdown",
   "metadata": {},
   "source": [
    "# 2.3"
   ]
  },
  {
   "cell_type": "code",
   "execution_count": 67,
   "metadata": {},
   "outputs": [
    {
     "name": "stdout",
     "output_type": "stream",
     "text": [
      "This matrix is sparse\n"
     ]
    }
   ],
   "source": [
    "if sparsity_score > .5:\n",
    "    print('This matrix is sparse')\n",
    "else:\n",
    "    print('This matrix is dense')"
   ]
  }
 ],
 "metadata": {
  "kernelspec": {
   "display_name": "Python 3.10.8 ('natthawit_py')",
   "language": "python",
   "name": "python3"
  },
  "language_info": {
   "codemirror_mode": {
    "name": "ipython",
    "version": 3
   },
   "file_extension": ".py",
   "mimetype": "text/x-python",
   "name": "python",
   "nbconvert_exporter": "python",
   "pygments_lexer": "ipython3",
   "version": "3.10.8"
  },
  "orig_nbformat": 4,
  "vscode": {
   "interpreter": {
    "hash": "0c567dafdd0593d46fec01db565347e8b8200ad0b2333bc8079895cb99323b09"
   }
  }
 },
 "nbformat": 4,
 "nbformat_minor": 2
}
